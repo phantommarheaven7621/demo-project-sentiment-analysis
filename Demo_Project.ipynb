{
 "cells": [
  {
   "cell_type": "markdown",
   "id": "84a6282e",
   "metadata": {},
   "source": [
    "# 1. Dataset"
   ]
  },
  {
   "cell_type": "code",
   "execution_count": 13,
   "id": "73ff9b26",
   "metadata": {},
   "outputs": [],
   "source": [
    "import pandas as pd"
   ]
  },
  {
   "cell_type": "code",
   "execution_count": 14,
   "id": "80c64324",
   "metadata": {},
   "outputs": [
    {
     "data": {
      "text/html": [
       "<div>\n",
       "<style scoped>\n",
       "    .dataframe tbody tr th:only-of-type {\n",
       "        vertical-align: middle;\n",
       "    }\n",
       "\n",
       "    .dataframe tbody tr th {\n",
       "        vertical-align: top;\n",
       "    }\n",
       "\n",
       "    .dataframe thead th {\n",
       "        text-align: right;\n",
       "    }\n",
       "</style>\n",
       "<table border=\"1\" class=\"dataframe\">\n",
       "  <thead>\n",
       "    <tr style=\"text-align: right;\">\n",
       "      <th></th>\n",
       "      <th>id</th>\n",
       "      <th>text</th>\n",
       "      <th>class</th>\n",
       "    </tr>\n",
       "  </thead>\n",
       "  <tbody>\n",
       "    <tr>\n",
       "      <th>0</th>\n",
       "      <td>14feb4e5</td>\n",
       "      <td>Đến quán 2 lần thôi , rất là thích !\\nQuán tuy...</td>\n",
       "      <td>1</td>\n",
       "    </tr>\n",
       "    <tr>\n",
       "      <th>1</th>\n",
       "      <td>9c6f6036</td>\n",
       "      <td>Đến quán vào tối chủ nhật . Có band hát . Khá ...</td>\n",
       "      <td>0</td>\n",
       "    </tr>\n",
       "    <tr>\n",
       "      <th>2</th>\n",
       "      <td>0f462cfe</td>\n",
       "      <td>Phục vụ lâu quá mặc dù khách rất vắng .\\nĐợi g...</td>\n",
       "      <td>0</td>\n",
       "    </tr>\n",
       "    <tr>\n",
       "      <th>3</th>\n",
       "      <td>741fd21b</td>\n",
       "      <td>Ko gian bé tí , quán chật chội , đông người nê...</td>\n",
       "      <td>0</td>\n",
       "    </tr>\n",
       "    <tr>\n",
       "      <th>4</th>\n",
       "      <td>5cd6dbbc</td>\n",
       "      <td>Khi mình order , đặt bánh thì nhận được sự tiế...</td>\n",
       "      <td>1</td>\n",
       "    </tr>\n",
       "    <tr>\n",
       "      <th>...</th>\n",
       "      <td>...</td>\n",
       "      <td>...</td>\n",
       "      <td>...</td>\n",
       "    </tr>\n",
       "    <tr>\n",
       "      <th>26995</th>\n",
       "      <td>232ae053</td>\n",
       "      <td>Không gian đẹp . Đồ uống bình thg . Cheese ngo...</td>\n",
       "      <td>0</td>\n",
       "    </tr>\n",
       "    <tr>\n",
       "      <th>26996</th>\n",
       "      <td>8eda7af0</td>\n",
       "      <td>Chỉ có hai từ thất vọng mới diễn tả được cảm g...</td>\n",
       "      <td>0</td>\n",
       "    </tr>\n",
       "    <tr>\n",
       "      <th>26997</th>\n",
       "      <td>18cde420</td>\n",
       "      <td>Hôm vào quán có bói bài Tarot , nên cũng bon c...</td>\n",
       "      <td>1</td>\n",
       "    </tr>\n",
       "    <tr>\n",
       "      <th>26998</th>\n",
       "      <td>2823add5</td>\n",
       "      <td>Va ̀ o ngô ̀ i đơ ̣ i 20p mơ ́ i đươ ̣ c phu ̣...</td>\n",
       "      <td>0</td>\n",
       "    </tr>\n",
       "    <tr>\n",
       "      <th>26999</th>\n",
       "      <td>7b40bb5c</td>\n",
       "      <td>Chổ hình như thấy que quen , hình như là ở trê...</td>\n",
       "      <td>1</td>\n",
       "    </tr>\n",
       "  </tbody>\n",
       "</table>\n",
       "<p>27000 rows × 3 columns</p>\n",
       "</div>"
      ],
      "text/plain": [
       "             id                                               text  class\n",
       "0      14feb4e5  Đến quán 2 lần thôi , rất là thích !\\nQuán tuy...      1\n",
       "1      9c6f6036  Đến quán vào tối chủ nhật . Có band hát . Khá ...      0\n",
       "2      0f462cfe  Phục vụ lâu quá mặc dù khách rất vắng .\\nĐợi g...      0\n",
       "3      741fd21b  Ko gian bé tí , quán chật chội , đông người nê...      0\n",
       "4      5cd6dbbc  Khi mình order , đặt bánh thì nhận được sự tiế...      1\n",
       "...         ...                                                ...    ...\n",
       "26995  232ae053  Không gian đẹp . Đồ uống bình thg . Cheese ngo...      0\n",
       "26996  8eda7af0  Chỉ có hai từ thất vọng mới diễn tả được cảm g...      0\n",
       "26997  18cde420  Hôm vào quán có bói bài Tarot , nên cũng bon c...      1\n",
       "26998  2823add5  Va ̀ o ngô ̀ i đơ ̣ i 20p mơ ́ i đươ ̣ c phu ̣...      0\n",
       "26999  7b40bb5c  Chổ hình như thấy que quen , hình như là ở trê...      1\n",
       "\n",
       "[27000 rows x 3 columns]"
      ]
     },
     "execution_count": 14,
     "metadata": {},
     "output_type": "execute_result"
    }
   ],
   "source": [
    "train = pd.read_csv(r'train.csv')\n",
    "train"
   ]
  },
  {
   "cell_type": "code",
   "execution_count": 15,
   "id": "f26b8604",
   "metadata": {},
   "outputs": [
    {
     "data": {
      "text/html": [
       "<div>\n",
       "<style scoped>\n",
       "    .dataframe tbody tr th:only-of-type {\n",
       "        vertical-align: middle;\n",
       "    }\n",
       "\n",
       "    .dataframe tbody tr th {\n",
       "        vertical-align: top;\n",
       "    }\n",
       "\n",
       "    .dataframe thead th {\n",
       "        text-align: right;\n",
       "    }\n",
       "</style>\n",
       "<table border=\"1\" class=\"dataframe\">\n",
       "  <thead>\n",
       "    <tr style=\"text-align: right;\">\n",
       "      <th></th>\n",
       "      <th>id</th>\n",
       "      <th>text</th>\n",
       "    </tr>\n",
       "  </thead>\n",
       "  <tbody>\n",
       "    <tr>\n",
       "      <th>0</th>\n",
       "      <td>3afca6c4</td>\n",
       "      <td>Mình kêu 6 loại khác nhau , mỗi laoij 1 cục mà...</td>\n",
       "    </tr>\n",
       "    <tr>\n",
       "      <th>1</th>\n",
       "      <td>a52dd7db</td>\n",
       "      <td>Ăn ở đây từ trc khi chủ nhà xây nhà mới .   ch...</td>\n",
       "    </tr>\n",
       "    <tr>\n",
       "      <th>2</th>\n",
       "      <td>a95ec3a0</td>\n",
       "      <td>Các bạn đến ăn ngay và luôn đi nhé ! !\\nMình t...</td>\n",
       "    </tr>\n",
       "    <tr>\n",
       "      <th>3</th>\n",
       "      <td>68c1c84a</td>\n",
       "      <td>Đây gần như quán ruột của mình luôn : ) ) đây ...</td>\n",
       "    </tr>\n",
       "    <tr>\n",
       "      <th>4</th>\n",
       "      <td>627bbd02</td>\n",
       "      <td>Tiếc là 25 năm sống ở Tây Ninh thì đây là lần ...</td>\n",
       "    </tr>\n",
       "    <tr>\n",
       "      <th>...</th>\n",
       "      <td>...</td>\n",
       "      <td>...</td>\n",
       "    </tr>\n",
       "    <tr>\n",
       "      <th>2995</th>\n",
       "      <td>e25b4674</td>\n",
       "      <td>Quán này đc cái mạng nhanh , không gian thoải ...</td>\n",
       "    </tr>\n",
       "    <tr>\n",
       "      <th>2996</th>\n",
       "      <td>e3a763d5</td>\n",
       "      <td>Hôm mình đi quán mới khai trương được 1 , 2 ng...</td>\n",
       "    </tr>\n",
       "    <tr>\n",
       "      <th>2997</th>\n",
       "      <td>2173e1e6</td>\n",
       "      <td>Đã tới đây 1 lần rồi , nhưng hơi thất vọng , H...</td>\n",
       "    </tr>\n",
       "    <tr>\n",
       "      <th>2998</th>\n",
       "      <td>217d5e8c</td>\n",
       "      <td>cả đám đi học về ghé quán ăn thử . cũng là ngư...</td>\n",
       "    </tr>\n",
       "    <tr>\n",
       "      <th>2999</th>\n",
       "      <td>8f7e8e7c</td>\n",
       "      <td>mình ko biết ở đây có gì mà đông dữ vậy , quán...</td>\n",
       "    </tr>\n",
       "  </tbody>\n",
       "</table>\n",
       "<p>3000 rows × 2 columns</p>\n",
       "</div>"
      ],
      "text/plain": [
       "            id                                               text\n",
       "0     3afca6c4  Mình kêu 6 loại khác nhau , mỗi laoij 1 cục mà...\n",
       "1     a52dd7db  Ăn ở đây từ trc khi chủ nhà xây nhà mới .   ch...\n",
       "2     a95ec3a0  Các bạn đến ăn ngay và luôn đi nhé ! !\\nMình t...\n",
       "3     68c1c84a  Đây gần như quán ruột của mình luôn : ) ) đây ...\n",
       "4     627bbd02  Tiếc là 25 năm sống ở Tây Ninh thì đây là lần ...\n",
       "...        ...                                                ...\n",
       "2995  e25b4674  Quán này đc cái mạng nhanh , không gian thoải ...\n",
       "2996  e3a763d5  Hôm mình đi quán mới khai trương được 1 , 2 ng...\n",
       "2997  2173e1e6  Đã tới đây 1 lần rồi , nhưng hơi thất vọng , H...\n",
       "2998  217d5e8c  cả đám đi học về ghé quán ăn thử . cũng là ngư...\n",
       "2999  8f7e8e7c  mình ko biết ở đây có gì mà đông dữ vậy , quán...\n",
       "\n",
       "[3000 rows x 2 columns]"
      ]
     },
     "execution_count": 15,
     "metadata": {},
     "output_type": "execute_result"
    }
   ],
   "source": [
    "test = pd.read_csv(r'test.csv')\n",
    "test"
   ]
  },
  {
   "cell_type": "code",
   "execution_count": 16,
   "id": "1b989ad2",
   "metadata": {},
   "outputs": [
    {
     "name": "stdout",
     "output_type": "stream",
     "text": [
      "<class 'pandas.core.frame.DataFrame'>\n",
      "RangeIndex: 27000 entries, 0 to 26999\n",
      "Data columns (total 3 columns):\n",
      " #   Column  Non-Null Count  Dtype \n",
      "---  ------  --------------  ----- \n",
      " 0   id      27000 non-null  object\n",
      " 1   text    27000 non-null  object\n",
      " 2   class   27000 non-null  int64 \n",
      "dtypes: int64(1), object(2)\n",
      "memory usage: 632.9+ KB\n"
     ]
    }
   ],
   "source": [
    "train.info()"
   ]
  },
  {
   "cell_type": "code",
   "execution_count": 17,
   "id": "ea7e59bf",
   "metadata": {},
   "outputs": [
    {
     "name": "stdout",
     "output_type": "stream",
     "text": [
      "<class 'pandas.core.frame.DataFrame'>\n",
      "RangeIndex: 3000 entries, 0 to 2999\n",
      "Data columns (total 2 columns):\n",
      " #   Column  Non-Null Count  Dtype \n",
      "---  ------  --------------  ----- \n",
      " 0   id      3000 non-null   object\n",
      " 1   text    3000 non-null   object\n",
      "dtypes: object(2)\n",
      "memory usage: 47.0+ KB\n"
     ]
    }
   ],
   "source": [
    "test.info()"
   ]
  },
  {
   "cell_type": "code",
   "execution_count": 18,
   "id": "5da7770f",
   "metadata": {},
   "outputs": [],
   "source": [
    "import tensorflow as tf"
   ]
  },
  {
   "cell_type": "code",
   "execution_count": 19,
   "id": "4f06ecd7",
   "metadata": {},
   "outputs": [],
   "source": [
    "from tensorflow.keras.layers import Embedding\n",
    "from tensorflow.keras.preprocessing.sequence import pad_sequences\n",
    "from tensorflow.keras.models import Sequential\n",
    "from tensorflow.keras.preprocessing.text import one_hot\n",
    "from tensorflow.keras.layers import LSTM\n",
    "from tensorflow.keras.layers import Dense"
   ]
  },
  {
   "cell_type": "markdown",
   "id": "694a2157",
   "metadata": {},
   "source": [
    "# 2. Data preprocessing"
   ]
  },
  {
   "cell_type": "code",
   "execution_count": 20,
   "id": "b6113065",
   "metadata": {},
   "outputs": [],
   "source": [
    "import re\n",
    "import string"
   ]
  },
  {
   "cell_type": "code",
   "execution_count": 21,
   "id": "77012484",
   "metadata": {},
   "outputs": [],
   "source": [
    "stopwords = open(r'Vietnamese_stopwords.txt', encoding='utf-8').read()"
   ]
  },
  {
   "cell_type": "code",
   "execution_count": 22,
   "id": "aad7e57e",
   "metadata": {},
   "outputs": [
    {
     "data": {
      "text/plain": [
       "'a lô\\na ha\\nai\\nai ai\\nai nấy\\nai đó\\nalô\\namen\\nanh\\nanh ấy\\nba\\nba ba\\nba bản\\nba cùng\\nba họ\\nba ngày\\nba ngôi\\nba tăng\\nbao giờ\\nbao lâu\\nbao nhiêu\\nbao nả\\nbay biến\\nbiết\\nbiết bao\\nbiết bao nhiêu\\nbiết chắc\\nbiết chừng nào\\nbiết mình\\nbiết mấy\\nbiết thế\\nbiết trước\\nbiết việc\\nbiết đâu\\nbiết đâu chừng\\nbiết đâu đấy\\nbiết được\\nbuổi\\nbuổi làm\\nbuổi mới\\nbuổi ngày\\nbuổi sớm\\nbà\\nbà ấy\\nbài\\nbài bác\\nbài bỏ\\nbài cái\\nbác\\nbán\\nbán cấp\\nbán dạ\\nbán thế\\nbây bẩy\\nbây chừ\\nbây giờ\\nbây nhiêu\\nbèn\\nbéng\\nbên\\nbên bị\\nbên có\\nbên cạnh\\nbông\\nbước\\nbước khỏi\\nbước tới\\nbước đi\\nbạn\\nbản\\nbản bộ\\nbản riêng\\nbản thân\\nbản ý\\nbất chợt\\nbất cứ\\nbất giác\\nbất kì\\nbất kể\\nbất kỳ\\nbất luận\\nbất ngờ\\nbất nhược\\nbất quá\\nbất quá chỉ\\nbất thình lình\\nbất tử\\nbất đồ\\nbấy\\nbấy chầy\\nbấy chừ\\nbấy giờ\\nbấy lâu\\nbấy lâu nay\\nbấy nay\\nbấy nhiêu\\nbập bà bập bõm\\nbập bõm\\nbắt đầu\\nbắt đầu từ\\nbằng\\nbằng cứ\\nbằng không\\nbằng người\\nbằng nhau\\nbằng như\\nbằng nào\\nbằng nấy\\nbằng vào\\nbằng được\\nbằng ấy\\nbển\\nbệt\\nbị\\nbị chú\\nbị vì\\nbỏ\\nbỏ bà\\nbỏ cha\\nbỏ cuộc\\nbỏ không\\nbỏ lại\\nbỏ mình\\nbỏ mất\\nbỏ mẹ\\nbỏ nhỏ\\nbỏ quá\\nbỏ ra\\nbỏ riêng\\nbỏ việc\\nbỏ xa\\nbỗng\\nbỗng chốc\\nbỗng dưng\\nbỗng không\\nbỗng nhiên\\nbỗng nhưng\\nbỗng thấy\\nbỗng đâu\\nbộ\\nbộ thuộc\\nbộ điều\\nbội phần\\nbớ\\nbởi\\nbởi ai\\nbởi chưng\\nbởi nhưng\\nbởi sao\\nbởi thế\\nbởi thế cho nên\\nbởi tại\\nbởi vì\\nbởi vậy\\nbởi đâu\\nbức\\ncao\\ncao lâu\\ncao ráo\\ncao răng\\ncao sang\\ncao số\\ncao thấp\\ncao thế\\ncao xa\\ncha\\ncha chả\\nchao ôi\\nchia sẻ\\nchiếc\\ncho\\ncho biết\\ncho chắc\\ncho hay\\ncho nhau\\ncho nên\\ncho rằng\\ncho rồi\\ncho thấy\\ncho tin\\ncho tới\\ncho tới khi\\ncho về\\ncho ăn\\ncho đang\\ncho được\\ncho đến\\ncho đến khi\\ncho đến nỗi\\nchoa\\nchu cha\\nchui cha\\nchung\\nchung cho\\nchung chung\\nchung cuộc\\nchung cục\\nchung nhau\\nchung qui\\nchung quy\\nchung quy lại\\nchung ái\\nchuyển\\nchuyển tự\\nchuyển đạt\\nchuyện\\nchuẩn bị\\nchành chạnh\\nchí chết\\nchính\\nchính bản\\nchính giữa\\nchính là\\nchính thị\\nchính điểm\\nchùn chùn\\nchùn chũn\\nchú\\nchú dẫn\\nchú khách\\nchú mày\\nchú mình\\nchúng\\nchúng mình\\nchúng ta\\nchúng tôi\\nchúng ông\\nchăn chắn\\nchăng\\nchăng chắc\\nchăng nữa\\nchơi\\nchơi họ\\nchưa\\nchưa bao giờ\\nchưa chắc\\nchưa có\\nchưa cần\\nchưa dùng\\nchưa dễ\\nchưa kể\\nchưa tính\\nchưa từng\\nchầm chập\\nchậc\\nchắc\\nchắc chắn\\nchắc dạ\\nchắc hẳn\\nchắc lòng\\nchắc người\\nchắc vào\\nchắc ăn\\nchẳng lẽ\\nchẳng những\\nchẳng nữa\\nchẳng phải\\nchết nỗi\\nchết thật\\nchết tiệt\\nchỉ\\nchỉ chính\\nchỉ có\\nchỉ là\\nchỉ tên\\nchỉn\\nchị\\nchị bộ\\nchị ấy\\nchịu\\nchịu chưa\\nchịu lời\\nchịu tốt\\nchịu ăn\\nchọn\\nchọn bên\\nchọn ra\\nchốc chốc\\nchớ\\nchớ chi\\nchớ gì\\nchớ không\\nchớ kể\\nchớ như\\nchợt\\nchợt nghe\\nchợt nhìn\\nchủn\\nchứ\\nchứ ai\\nchứ còn\\nchứ gì\\nchứ không\\nchứ không phải\\nchứ lại\\nchứ lị\\nchứ như\\nchứ sao\\ncoi bộ\\ncoi mòi\\ncon\\ncon con\\ncon dạ\\ncon nhà\\ncon tính\\ncu cậu\\ncuối\\ncuối cùng\\ncuối điểm\\ncuốn\\ncuộc\\ncàng\\ncàng càng\\ncàng hay\\ncá nhân\\ncác\\ncác cậu\\ncách\\ncách bức\\ncách không\\ncách nhau\\ncách đều\\ncái\\ncái gì\\ncái họ\\ncái đã\\ncái đó\\ncái ấy\\ncâu hỏi\\ncây\\ncây nước\\ncòn\\ncòn như\\ncòn nữa\\ncòn thời gian\\ncòn về\\ncó\\ncó ai\\ncó chuyện\\ncó chăng\\ncó chăng là\\ncó chứ\\ncó cơ\\ncó dễ\\ncó họ\\ncó khi\\ncó ngày\\ncó người\\ncó nhiều\\ncó nhà\\ncó phải\\ncó số\\ncó tháng\\ncó thế\\ncó thể\\ncó vẻ\\ncó ý\\ncó ăn\\ncó điều\\ncó điều kiện\\ncó đáng\\ncó đâu\\ncó được\\ncóc khô\\ncô\\ncô mình\\ncô quả\\ncô tăng\\ncô ấy\\ncông nhiên\\ncùng\\ncùng chung\\ncùng cực\\ncùng nhau\\ncùng tuổi\\ncùng tột\\ncùng với\\ncùng ăn\\ncăn\\ncăn cái\\ncăn cắt\\ncăn tính\\ncũng\\ncũng như\\ncũng nên\\ncũng thế\\ncũng vậy\\ncũng vậy thôi\\ncũng được\\ncơ\\ncơ chỉ\\ncơ chừng\\ncơ cùng\\ncơ dẫn\\ncơ hồ\\ncơ hội\\ncơ mà\\ncơn\\ncả\\ncả nghe\\ncả nghĩ\\ncả ngày\\ncả người\\ncả nhà\\ncả năm\\ncả thảy\\ncả thể\\ncả tin\\ncả ăn\\ncả đến\\ncảm thấy\\ncảm ơn\\ncấp\\ncấp số\\ncấp trực tiếp\\ncần\\ncần cấp\\ncần gì\\ncần số\\ncật lực\\ncật sức\\ncậu\\ncổ lai\\ncụ thể\\ncụ thể là\\ncụ thể như\\ncủa\\ncủa ngọt\\ncủa tin\\ncứ\\ncứ như\\ncứ việc\\ncứ điểm\\ncực lực\\ndo\\ndo vì\\ndo vậy\\ndo đó\\nduy\\nduy chỉ\\nduy có\\ndài\\ndài lời\\ndài ra\\ndành\\ndành dành\\ndào\\ndì\\ndù\\ndù cho\\ndù dì\\ndù gì\\ndù rằng\\ndù sao\\ndùng\\ndùng cho\\ndùng hết\\ndùng làm\\ndùng đến\\ndưới\\ndưới nước\\ndạ\\ndạ bán\\ndạ con\\ndạ dài\\ndạ dạ\\ndạ khách\\ndần dà\\ndần dần\\ndầu sao\\ndẫn\\ndẫu\\ndẫu mà\\ndẫu rằng\\ndẫu sao\\ndễ\\ndễ dùng\\ndễ gì\\ndễ khiến\\ndễ nghe\\ndễ ngươi\\ndễ như chơi\\ndễ sợ\\ndễ sử dụng\\ndễ thường\\ndễ thấy\\ndễ ăn\\ndễ đâu\\ndở chừng\\ndữ\\ndữ cách\\nem\\nem em\\ngiá trị\\ngiá trị thực tế\\ngiảm\\ngiảm chính\\ngiảm thấp\\ngiảm thế\\ngiống\\ngiống người\\ngiống nhau\\ngiống như\\ngiờ\\ngiờ lâu\\ngiờ này\\ngiờ đi\\ngiờ đây\\ngiờ đến\\ngiữ\\ngiữ lấy\\ngiữ ý\\ngiữa\\ngiữa lúc\\ngây\\ngây cho\\ngây giống\\ngây ra\\ngây thêm\\ngì\\ngì gì\\ngì đó\\ngần\\ngần bên\\ngần hết\\ngần ngày\\ngần như\\ngần xa\\ngần đây\\ngần đến\\ngặp\\ngặp khó khăn\\ngặp phải\\ngồm\\nhay\\nhay biết\\nhay hay\\nhay không\\nhay là\\nhay làm\\nhay nhỉ\\nhay nói\\nhay sao\\nhay tin\\nhay đâu\\nhiểu\\nhiện nay\\nhiện tại\\nhoàn toàn\\nhoặc\\nhoặc là\\nhãy\\nhãy còn\\nhơn\\nhơn cả\\nhơn hết\\nhơn là\\nhơn nữa\\nhơn trước\\nhầu hết\\nhết\\nhết chuyện\\nhết cả\\nhết của\\nhết nói\\nhết ráo\\nhết rồi\\nhết ý\\nhọ\\nhọ gần\\nhọ xa\\nhỏi\\nhỏi lại\\nhỏi xem\\nhỏi xin\\nhỗ trợ\\nkhi\\nkhi khác\\nkhi không\\nkhi nào\\nkhi nên\\nkhi trước\\nkhiến\\nkhoảng\\nkhoảng cách\\nkhoảng không\\nkhá\\nkhá tốt\\nkhác\\nkhác gì\\nkhác khác\\nkhác nhau\\nkhác nào\\nkhác thường\\nkhác xa\\nkhách\\nkhó\\nkhó biết\\nkhó chơi\\nkhó khăn\\nkhó làm\\nkhó mở\\nkhó nghe\\nkhó nghĩ\\nkhó nói\\nkhó thấy\\nkhó tránh\\nkhông\\nkhông ai\\nkhông bao giờ\\nkhông bao lâu\\nkhông biết\\nkhông bán\\nkhông chỉ\\nkhông còn\\nkhông có\\nkhông có gì\\nkhông cùng\\nkhông cần\\nkhông cứ\\nkhông dùng\\nkhông gì\\nkhông hay\\nkhông khỏi\\nkhông kể\\nkhông ngoài\\nkhông nhận\\nkhông những\\nkhông phải\\nkhông phải không\\nkhông thể\\nkhông tính\\nkhông điều kiện\\nkhông được\\nkhông đầy\\nkhông để\\nkhẳng định\\nkhỏi\\nkhỏi nói\\nkể\\nkể cả\\nkể như\\nkể tới\\nkể từ\\nliên quan\\nloại\\nloại từ\\nluôn\\nluôn cả\\nluôn luôn\\nluôn tay\\nlà\\nlà cùng\\nlà là\\nlà nhiều\\nlà phải\\nlà thế nào\\nlà vì\\nlà ít\\nlàm\\nlàm bằng\\nlàm cho\\nlàm dần dần\\nlàm gì\\nlàm lòng\\nlàm lại\\nlàm lấy\\nlàm mất\\nlàm ngay\\nlàm như\\nlàm nên\\nlàm ra\\nlàm riêng\\nlàm sao\\nlàm theo\\nlàm thế nào\\nlàm tin\\nlàm tôi\\nlàm tăng\\nlàm tại\\nlàm tắp lự\\nlàm vì\\nlàm đúng\\nlàm được\\nlâu\\nlâu các\\nlâu lâu\\nlâu nay\\nlâu ngày\\nlên\\nlên cao\\nlên cơn\\nlên mạnh\\nlên ngôi\\nlên nước\\nlên số\\nlên xuống\\nlên đến\\nlòng\\nlòng không\\nlúc\\nlúc khác\\nlúc lâu\\nlúc nào\\nlúc này\\nlúc sáng\\nlúc trước\\nlúc đi\\nlúc đó\\nlúc đến\\nlúc ấy\\nlý do\\nlượng\\nlượng cả\\nlượng số\\nlượng từ\\nlại\\nlại bộ\\nlại cái\\nlại còn\\nlại giống\\nlại làm\\nlại người\\nlại nói\\nlại nữa\\nlại quả\\nlại thôi\\nlại ăn\\nlại đây\\nlấy\\nlấy có\\nlấy cả\\nlấy giống\\nlấy làm\\nlấy lý do\\nlấy lại\\nlấy ra\\nlấy ráo\\nlấy sau\\nlấy số\\nlấy thêm\\nlấy thế\\nlấy vào\\nlấy xuống\\nlấy được\\nlấy để\\nlần\\nlần khác\\nlần lần\\nlần nào\\nlần này\\nlần sang\\nlần sau\\nlần theo\\nlần trước\\nlần tìm\\nlớn\\nlớn lên\\nlớn nhỏ\\nlời\\nlời chú\\nlời nói\\nmang\\nmang lại\\nmang mang\\nmang nặng\\nmang về\\nmuốn\\nmà\\nmà cả\\nmà không\\nmà lại\\nmà thôi\\nmà vẫn\\nmình\\nmạnh\\nmất\\nmất còn\\nmọi\\nmọi giờ\\nmọi khi\\nmọi lúc\\nmọi người\\nmọi nơi\\nmọi sự\\nmọi thứ\\nmọi việc\\nmối\\nmỗi\\nmỗi lúc\\nmỗi lần\\nmỗi một\\nmỗi ngày\\nmỗi người\\nmột\\nmột cách\\nmột cơn\\nmột khi\\nmột lúc\\nmột số\\nmột vài\\nmột ít\\nmới\\nmới hay\\nmới rồi\\nmới đây\\nmở\\nmở mang\\nmở nước\\nmở ra\\nmợ\\nmức\\nnay\\nngay\\nngay bây giờ\\nngay cả\\nngay khi\\nngay khi đến\\nngay lúc\\nngay lúc này\\nngay lập tức\\nngay thật\\nngay tức khắc\\nngay tức thì\\nngay từ\\nnghe\\nnghe chừng\\nnghe hiểu\\nnghe không\\nnghe lại\\nnghe nhìn\\nnghe như\\nnghe nói\\nnghe ra\\nnghe rõ\\nnghe thấy\\nnghe tin\\nnghe trực tiếp\\nnghe đâu\\nnghe đâu như\\nnghe được\\nnghen\\nnghiễm nhiên\\nnghĩ\\nnghĩ lại\\nnghĩ ra\\nnghĩ tới\\nnghĩ xa\\nnghĩ đến\\nnghỉm\\nngoài\\nngoài này\\nngoài ra\\nngoài xa\\nngoải\\nnguồn\\nngày\\nngày càng\\nngày cấp\\nngày giờ\\nngày ngày\\nngày nào\\nngày này\\nngày nọ\\nngày qua\\nngày rày\\nngày tháng\\nngày xưa\\nngày xửa\\nngày đến\\nngày ấy\\nngôi\\nngôi nhà\\nngôi thứ\\nngõ hầu\\nngăn ngắt\\nngươi\\nngười\\nngười hỏi\\nngười khác\\nngười khách\\nngười mình\\nngười nghe\\nngười người\\nngười nhận\\nngọn\\nngọn nguồn\\nngọt\\nngồi\\nngồi bệt\\nngồi không\\nngồi sau\\nngồi trệt\\nngộ nhỡ\\nnhanh\\nnhanh lên\\nnhanh tay\\nnhau\\nnhiên hậu\\nnhiều\\nnhiều ít\\nnhiệt liệt\\nnhung nhăng\\nnhà\\nnhà chung\\nnhà khó\\nnhà làm\\nnhà ngoài\\nnhà ngươi\\nnhà tôi\\nnhà việc\\nnhân dịp\\nnhân tiện\\nnhé\\nnhìn\\nnhìn chung\\nnhìn lại\\nnhìn nhận\\nnhìn theo\\nnhìn thấy\\nnhìn xuống\\nnhóm\\nnhón nhén\\nnhư\\nnhư ai\\nnhư chơi\\nnhư không\\nnhư là\\nnhư nhau\\nnhư quả\\nnhư sau\\nnhư thường\\nnhư thế\\nnhư thế nào\\nnhư thể\\nnhư trên\\nnhư trước\\nnhư tuồng\\nnhư vậy\\nnhư ý\\nnhưng\\nnhưng mà\\nnhược bằng\\nnhất\\nnhất loạt\\nnhất luật\\nnhất là\\nnhất mực\\nnhất nhất\\nnhất quyết\\nnhất sinh\\nnhất thiết\\nnhất thì\\nnhất tâm\\nnhất tề\\nnhất đán\\nnhất định\\nnhận\\nnhận biết\\nnhận họ\\nnhận làm\\nnhận nhau\\nnhận ra\\nnhận thấy\\nnhận việc\\nnhận được\\nnhằm\\nnhằm khi\\nnhằm lúc\\nnhằm vào\\nnhằm để\\nnhỉ\\nnhỏ\\nnhỏ người\\nnhớ\\nnhớ bập bõm\\nnhớ lại\\nnhớ lấy\\nnhớ ra\\nnhờ\\nnhờ chuyển\\nnhờ có\\nnhờ nhờ\\nnhờ đó\\nnhỡ ra\\nnhững\\nnhững ai\\nnhững khi\\nnhững là\\nnhững lúc\\nnhững muốn\\nnhững như\\nnào\\nnào cũng\\nnào hay\\nnào là\\nnào phải\\nnào đâu\\nnào đó\\nnày\\nnày nọ\\nnên\\nnên chi\\nnên chăng\\nnên làm\\nnên người\\nnên tránh\\nnó\\nnóc\\nnói\\nnói bông\\nnói chung\\nnói khó\\nnói là\\nnói lên\\nnói lại\\nnói nhỏ\\nnói phải\\nnói qua\\nnói ra\\nnói riêng\\nnói rõ\\nnói thêm\\nnói thật\\nnói toẹt\\nnói trước\\nnói tốt\\nnói với\\nnói xa\\nnói ý\\nnói đến\\nnói đủ\\nnăm\\nnăm tháng\\nnơi\\nnơi nơi\\nnước\\nnước bài\\nnước cùng\\nnước lên\\nnước nặng\\nnước quả\\nnước xuống\\nnước ăn\\nnước đến\\nnấy\\nnặng\\nnặng căn\\nnặng mình\\nnặng về\\nnếu\\nnếu có\\nnếu cần\\nnếu không\\nnếu mà\\nnếu như\\nnếu thế\\nnếu vậy\\nnếu được\\nnền\\nnọ\\nnớ\\nnức nở\\nnữa\\nnữa khi\\nnữa là\\nnữa rồi\\noai oái\\noái\\npho\\nphè\\nphè phè\\nphía\\nphía bên\\nphía bạn\\nphía dưới\\nphía sau\\nphía trong\\nphía trên\\nphía trước\\nphóc\\nphót\\nphù hợp\\nphăn phắt\\nphương chi\\nphải\\nphải biết\\nphải chi\\nphải chăng\\nphải cách\\nphải cái\\nphải giờ\\nphải khi\\nphải không\\nphải lại\\nphải lời\\nphải người\\nphải như\\nphải rồi\\nphải tay\\nphần\\nphần lớn\\nphần nhiều\\nphần nào\\nphần sau\\nphần việc\\nphắt\\nphỉ phui\\nphỏng\\nphỏng như\\nphỏng nước\\nphỏng theo\\nphỏng tính\\nphốc\\nphụt\\nphứt\\nqua\\nqua chuyện\\nqua khỏi\\nqua lại\\nqua lần\\nqua ngày\\nqua tay\\nqua thì\\nqua đi\\nquan trọng\\nquan trọng vấn đề\\nquan tâm\\nquay\\nquay bước\\nquay lại\\nquay số\\nquay đi\\nquá\\nquá bán\\nquá bộ\\nquá giờ\\nquá lời\\nquá mức\\nquá nhiều\\nquá tay\\nquá thì\\nquá tin\\nquá trình\\nquá tuổi\\nquá đáng\\nquá ư\\nquả\\nquả là\\nquả thật\\nquả thế\\nquả vậy\\nquận\\nra\\nra bài\\nra bộ\\nra chơi\\nra gì\\nra lại\\nra lời\\nra ngôi\\nra người\\nra sao\\nra tay\\nra vào\\nra ý\\nra điều\\nra đây\\nren rén\\nriu ríu\\nriêng\\nriêng từng\\nriệt\\nrày\\nráo\\nráo cả\\nráo nước\\nráo trọi\\nrén\\nrén bước\\nrích\\nrón rén\\nrõ\\nrõ là\\nrõ thật\\nrút cục\\nrăng\\nrăng răng\\nrất\\nrất lâu\\nrằng\\nrằng là\\nrốt cuộc\\nrốt cục\\nrồi\\nrồi nữa\\nrồi ra\\nrồi sao\\nrồi sau\\nrồi tay\\nrồi thì\\nrồi xem\\nrồi đây\\nrứa\\nsa sả\\nsang\\nsang năm\\nsang sáng\\nsang tay\\nsao\\nsao bản\\nsao bằng\\nsao cho\\nsao vậy\\nsao đang\\nsau\\nsau chót\\nsau cuối\\nsau cùng\\nsau hết\\nsau này\\nsau nữa\\nsau sau\\nsau đây\\nsau đó\\nso\\nso với\\nsong le\\nsuýt\\nsuýt nữa\\nsáng\\nsáng ngày\\nsáng rõ\\nsáng thế\\nsáng ý\\nsì\\nsì sì\\nsất\\nsắp\\nsắp đặt\\nsẽ\\nsẽ biết\\nsẽ hay\\nsố\\nsố cho biết\\nsố cụ thể\\nsố loại\\nsố là\\nsố người\\nsố phần\\nsố thiếu\\nsốt sột\\nsớm\\nsớm ngày\\nsở dĩ\\nsử dụng\\nsự\\nsự thế\\nsự việc\\ntanh\\ntanh tanh\\ntay\\ntay quay\\ntha hồ\\ntha hồ chơi\\ntha hồ ăn\\nthan ôi\\nthanh\\nthanh ba\\nthanh chuyển\\nthanh không\\nthanh thanh\\nthanh tính\\nthanh điều kiện\\nthanh điểm\\nthay đổi\\nthay đổi tình trạng\\ntheo\\ntheo bước\\ntheo như\\ntheo tin\\nthi thoảng\\nthiếu\\nthiếu gì\\nthiếu điểm\\nthoạt\\nthoạt nghe\\nthoạt nhiên\\nthoắt\\nthuần\\nthuần ái\\nthuộc\\nthuộc bài\\nthuộc cách\\nthuộc lại\\nthuộc từ\\nthà\\nthà là\\nthà rằng\\nthành ra\\nthành thử\\nthái quá\\ntháng\\ntháng ngày\\ntháng năm\\ntháng tháng\\nthêm\\nthêm chuyện\\nthêm giờ\\nthêm vào\\nthì\\nthì giờ\\nthì là\\nthì phải\\nthì ra\\nthì thôi\\nthình lình\\nthích\\nthích cứ\\nthích thuộc\\nthích tự\\nthích ý\\nthím\\nthôi\\nthôi việc\\nthúng thắng\\nthương ôi\\nthường\\nthường bị\\nthường hay\\nthường khi\\nthường số\\nthường sự\\nthường thôi\\nthường thường\\nthường tính\\nthường tại\\nthường xuất hiện\\nthường đến\\nthảo hèn\\nthảo nào\\nthấp\\nthấp cơ\\nthấp thỏm\\nthấp xuống\\nthấy\\nthấy tháng\\nthẩy\\nthậm\\nthậm chí\\nthậm cấp\\nthậm từ\\nthật\\nthật chắc\\nthật là\\nthật lực\\nthật quả\\nthật ra\\nthật sự\\nthật thà\\nthật tốt\\nthật vậy\\nthế\\nthế chuẩn bị\\nthế là\\nthế lại\\nthế mà\\nthế nào\\nthế nên\\nthế ra\\nthế sự\\nthế thì\\nthế thôi\\nthế thường\\nthế thế\\nthế à\\nthế đó\\nthếch\\nthỉnh thoảng\\nthỏm\\nthốc\\nthốc tháo\\nthốt\\nthốt nhiên\\nthốt nói\\nthốt thôi\\nthộc\\nthời gian\\nthời gian sử dụng\\nthời gian tính\\nthời điểm\\nthục mạng\\nthứ\\nthứ bản\\nthứ đến\\nthửa\\nthực hiện\\nthực hiện đúng\\nthực ra\\nthực sự\\nthực tế\\nthực vậy\\ntin\\ntin thêm\\ntin vào\\ntiếp theo\\ntiếp tục\\ntiếp đó\\ntiện thể\\ntoà\\ntoé khói\\ntoẹt\\ntrong\\ntrong khi\\ntrong lúc\\ntrong mình\\ntrong ngoài\\ntrong này\\ntrong số\\ntrong vùng\\ntrong đó\\ntrong ấy\\ntránh\\ntránh khỏi\\ntránh ra\\ntránh tình trạng\\ntránh xa\\ntrên\\ntrên bộ\\ntrên dưới\\ntrước\\ntrước hết\\ntrước khi\\ntrước kia\\ntrước nay\\ntrước ngày\\ntrước nhất\\ntrước sau\\ntrước tiên\\ntrước tuổi\\ntrước đây\\ntrước đó\\ntrả\\ntrả của\\ntrả lại\\ntrả ngay\\ntrả trước\\ntrếu tráo\\ntrển\\ntrệt\\ntrệu trạo\\ntrỏng\\ntrời đất ơi\\ntrở thành\\ntrừ phi\\ntrực tiếp\\ntrực tiếp làm\\ntuy\\ntuy có\\ntuy là\\ntuy nhiên\\ntuy rằng\\ntuy thế\\ntuy vậy\\ntuy đã\\ntuyệt nhiên\\ntuần tự\\ntuốt luốt\\ntuốt tuồn tuột\\ntuốt tuột\\ntuổi\\ntuổi cả\\ntuổi tôi\\ntà tà\\ntên\\ntên chính\\ntên cái\\ntên họ\\ntên tự\\ntênh\\ntênh tênh\\ntìm\\ntìm bạn\\ntìm cách\\ntìm hiểu\\ntìm ra\\ntìm việc\\ntình trạng\\ntính\\ntính cách\\ntính căn\\ntính người\\ntính phỏng\\ntính từ\\ntít mù\\ntò te\\ntôi\\ntôi con\\ntông tốc\\ntù tì\\ntăm tắp\\ntăng\\ntăng chúng\\ntăng cấp\\ntăng giảm\\ntăng thêm\\ntăng thế\\ntại\\ntại lòng\\ntại nơi\\ntại sao\\ntại tôi\\ntại vì\\ntại đâu\\ntại đây\\ntại đó\\ntạo\\ntạo cơ hội\\ntạo nên\\ntạo ra\\ntạo ý\\ntạo điều kiện\\ntấm\\ntấm bản\\ntấm các\\ntấn\\ntấn tới\\ntất cả\\ntất cả bao nhiêu\\ntất thảy\\ntất tần tật\\ntất tật\\ntập trung\\ntắp\\ntắp lự\\ntắp tắp\\ntọt\\ntỏ ra\\ntỏ vẻ\\ntốc tả\\ntối ư\\ntốt\\ntốt bạn\\ntốt bộ\\ntốt hơn\\ntốt mối\\ntốt ngày\\ntột\\ntột cùng\\ntớ\\ntới\\ntới gần\\ntới mức\\ntới nơi\\ntới thì\\ntức thì\\ntức tốc\\ntừ\\ntừ căn\\ntừ giờ\\ntừ khi\\ntừ loại\\ntừ nay\\ntừ thế\\ntừ tính\\ntừ tại\\ntừ từ\\ntừ ái\\ntừ điều\\ntừ đó\\ntừ ấy\\ntừng\\ntừng cái\\ntừng giờ\\ntừng nhà\\ntừng phần\\ntừng thời gian\\ntừng đơn vị\\ntừng ấy\\ntự\\ntự cao\\ntự khi\\ntự lượng\\ntự tính\\ntự tạo\\ntự vì\\ntự ý\\ntự ăn\\ntựu trung\\nveo\\nveo veo\\nviệc\\nviệc gì\\nvung thiên địa\\nvung tàn tán\\nvung tán tàn\\nvà\\nvài\\nvài ba\\nvài người\\nvài nhà\\nvài nơi\\nvài tên\\nvài điều\\nvào\\nvào gặp\\nvào khoảng\\nvào lúc\\nvào vùng\\nvào đến\\nvâng\\nvâng chịu\\nvâng dạ\\nvâng vâng\\nvâng ý\\nvèo\\nvèo vèo\\nvì\\nvì chưng\\nvì rằng\\nvì sao\\nvì thế\\nvì vậy\\nví bằng\\nví dù\\nví phỏng\\nví thử\\nvô hình trung\\nvô kể\\nvô luận\\nvô vàn\\nvùng\\nvùng lên\\nvùng nước\\nvăng tê\\nvượt\\nvượt khỏi\\nvượt quá\\nvạn nhất\\nvả chăng\\nvả lại\\nvấn đề\\nvấn đề quan trọng\\nvẫn\\nvẫn thế\\nvậy\\nvậy là\\nvậy mà\\nvậy nên\\nvậy ra\\nvậy thì\\nvậy ư\\nvề\\nvề không\\nvề nước\\nvề phần\\nvề sau\\nvề tay\\nvị trí\\nvị tất\\nvốn dĩ\\nvới\\nvới lại\\nvới nhau\\nvở\\nvụt\\nvừa\\nvừa khi\\nvừa lúc\\nvừa mới\\nvừa qua\\nvừa rồi\\nvừa vừa\\nxa\\nxa cách\\nxa gần\\nxa nhà\\nxa tanh\\nxa tắp\\nxa xa\\nxa xả\\nxem\\nxem lại\\nxem ra\\nxem số\\nxin\\nxin gặp\\nxin vâng\\nxiết bao\\nxon xón\\nxoành xoạch\\nxoét\\nxoẳn\\nxoẹt\\nxuất hiện\\nxuất kì bất ý\\nxuất kỳ bất ý\\nxuể\\nxuống\\nxăm xúi\\nxăm xăm\\nxăm xắm\\nxảy ra\\nxềnh xệch\\nxệp\\nxử lý\\nyêu cầu\\nà\\nà này\\nà ơi\\nào\\nào vào\\nào ào\\ná\\ná à\\nái\\nái chà\\nái dà\\náng\\náng như\\nâu là\\nít\\nít biết\\nít có\\nít hơn\\nít khi\\nít lâu\\nít nhiều\\nít nhất\\nít nữa\\nít quá\\nít ra\\nít thôi\\nít thấy\\nô hay\\nô hô\\nô kê\\nô kìa\\nôi chao\\nôi thôi\\nông\\nông nhỏ\\nông tạo\\nông từ\\nông ấy\\nông ổng\\núi\\núi chà\\núi dào\\ný\\ný chừng\\ný da\\ný hoặc\\năn\\năn chung\\năn chắc\\năn chịu\\năn cuộc\\năn hết\\năn hỏi\\năn làm\\năn người\\năn ngồi\\năn quá\\năn riêng\\năn sáng\\năn tay\\năn trên\\năn về\\nđang\\nđang tay\\nđang thì\\nđiều\\nđiều gì\\nđiều kiện\\nđiểm\\nđiểm chính\\nđiểm gặp\\nđiểm đầu tiên\\nđành đạch\\nđáng\\nđáng kể\\nđáng lí\\nđáng lý\\nđáng lẽ\\nđáng số\\nđánh giá\\nđánh đùng\\nđáo để\\nđâu\\nđâu có\\nđâu cũng\\nđâu như\\nđâu nào\\nđâu phải\\nđâu đâu\\nđâu đây\\nđâu đó\\nđây\\nđây này\\nđây rồi\\nđây đó\\nđã\\nđã hay\\nđã không\\nđã là\\nđã lâu\\nđã thế\\nđã vậy\\nđã đủ\\nđó\\nđó đây\\nđúng\\nđúng ngày\\nđúng ra\\nđúng tuổi\\nđúng với\\nđơn vị\\nđưa\\nđưa cho\\nđưa chuyện\\nđưa em\\nđưa ra\\nđưa tay\\nđưa tin\\nđưa tới\\nđưa vào\\nđưa về\\nđưa xuống\\nđưa đến\\nđược\\nđược cái\\nđược lời\\nđược nước\\nđược tin\\nđại loại\\nđại nhân\\nđại phàm\\nđại để\\nđạt\\nđảm bảo\\nđầu tiên\\nđầy\\nđầy năm\\nđầy phè\\nđầy tuổi\\nđặc biệt\\nđặt\\nđặt làm\\nđặt mình\\nđặt mức\\nđặt ra\\nđặt trước\\nđặt để\\nđến\\nđến bao giờ\\nđến cùng\\nđến cùng cực\\nđến cả\\nđến giờ\\nđến gần\\nđến hay\\nđến khi\\nđến lúc\\nđến lời\\nđến nay\\nđến ngày\\nđến nơi\\nđến nỗi\\nđến thì\\nđến thế\\nđến tuổi\\nđến xem\\nđến điều\\nđến đâu\\nđều\\nđều bước\\nđều nhau\\nđều đều\\nđể\\nđể cho\\nđể giống\\nđể không\\nđể lòng\\nđể lại\\nđể mà\\nđể phần\\nđể được\\nđể đến nỗi\\nđối với\\nđồng thời\\nđủ\\nđủ dùng\\nđủ nơi\\nđủ số\\nđủ điều\\nđủ điểm\\nơ\\nơ hay\\nơ kìa\\nơi\\nơi là\\nư\\nạ\\nạ ơi\\nấy\\nấy là\\nầu ơ\\nắt\\nắt hẳn\\nắt là\\nắt phải\\nắt thật\\nối dào\\nối giời\\nối giời ơi\\nồ\\nồ ồ\\nổng\\nớ\\nớ này\\nờ\\nờ ờ\\nở\\nở lại\\nở như\\nở nhờ\\nở năm\\nở trên\\nở vào\\nở đây\\nở đó\\nở được\\nủa\\nứ hự\\nứ ừ\\nừ\\nừ nhé\\nừ thì\\nừ ào\\nừ ừ\\nử'"
      ]
     },
     "execution_count": 22,
     "metadata": {},
     "output_type": "execute_result"
    }
   ],
   "source": [
    "stopwords"
   ]
  },
  {
   "cell_type": "code",
   "execution_count": 23,
   "id": "c7464909",
   "metadata": {},
   "outputs": [
    {
     "data": {
      "text/plain": [
       "['a lô',\n",
       " 'a ha',\n",
       " 'ai',\n",
       " 'ai ai',\n",
       " 'ai nấy',\n",
       " 'ai đó',\n",
       " 'alô',\n",
       " 'amen',\n",
       " 'anh',\n",
       " 'anh ấy']"
      ]
     },
     "execution_count": 23,
     "metadata": {},
     "output_type": "execute_result"
    }
   ],
   "source": [
    "stopwords = stopwords.split('\\n')\n",
    "stopwords[:10]"
   ]
  },
  {
   "cell_type": "code",
   "execution_count": 96,
   "id": "3caaa529",
   "metadata": {},
   "outputs": [],
   "source": [
    "lst_train = []\n",
    "\n",
    "for i in train['text']:\n",
    "    cleaned_text = i.translate(str.maketrans('', '', string.punctuation))\n",
    "    cleaned_text = re.sub('\\s?[a-zA-Z]*[0-9]+[a-zA-Z]*\\s?', ' ', cleaned_text)\n",
    "    cleaned_text = re.sub('\\s?[^wfjzZWFJ\\s]*[wfjzZWFJ]+[^wfjzZWFJ\\s]*\\s?', ' ', cleaned_text)\n",
    "    cleaned_text = cleaned_text.lower()\n",
    "    cleaned_text = cleaned_text.split()\n",
    "    \n",
    "    for w in cleaned_text:\n",
    "        if w in stopwords:\n",
    "            cleaned_text.remove(w)\n",
    "    \n",
    "    cleaned_text = ' '.join(cleaned_text)\n",
    "            \n",
    "    lst_train.append(cleaned_text)"
   ]
  },
  {
   "cell_type": "code",
   "execution_count": 98,
   "id": "88db9d6e",
   "metadata": {},
   "outputs": [
    {
     "name": "stdout",
     "output_type": "stream",
     "text": [
      "quán thôi là quán nằm hẻm tìm quán rộng rãi thoáng mát sạch nhân viên phục vụ nhiệt tình siêu thương thực đơn phong phú đa dạng giá siêu rẻ thức nêm nếm hợp khẩu vị ngon miệng desert vừa quá ngấy rất ngon trà sữa uyên ương thơm đúng vị đã uống hongkong chung cho chất thích quán lắm\n",
      "quán tối chủ nhật band hát ổn nhiên gian tầng hơi hẹp cả vỉa hè đồ uống ko ngon\n",
      "phục vụ quá mặc khách vắng đợi mới được ly cà phê ông chỉ khéo quảng bá với chắc quay nữa\n"
     ]
    }
   ],
   "source": [
    "for i in range(3):\n",
    "    print(lst_train[i])"
   ]
  },
  {
   "cell_type": "code",
   "execution_count": 99,
   "id": "bcc69cd6",
   "metadata": {},
   "outputs": [],
   "source": [
    "lst_test = []\n",
    "\n",
    "for i in test['text']:\n",
    "    cleaned_text = i.translate(str.maketrans('', '', string.punctuation))\n",
    "    cleaned_text = re.sub('\\s?[a-zA-Z]*[0-9]+[a-zA-Z]*\\s?', ' ', cleaned_text)\n",
    "    cleaned_text = re.sub('\\s?[^wfjzZWFJ\\s]*[wfjzZWFJ]+[^wfjzZWFJ\\s]*\\s?', ' ', cleaned_text)\n",
    "    cleaned_text = cleaned_text.lower()\n",
    "    cleaned_text = cleaned_text.split()\n",
    "    \n",
    "    for w in cleaned_text:\n",
    "        if w in stopwords:\n",
    "            cleaned_text.remove(w)\n",
    "    \n",
    "    cleaned_text = ' '.join(cleaned_text)\n",
    "            \n",
    "    lst_test.append(cleaned_text)"
   ]
  },
  {
   "cell_type": "code",
   "execution_count": 100,
   "id": "ab355eca",
   "metadata": {},
   "outputs": [
    {
     "name": "stdout",
     "output_type": "stream",
     "text": [
      "kêu khác mỗi cục nào cứ như đang cuối ngon lại cục khoai môn chiên mấy loại há cảo xíu mại bánh xẹp ăn ngán cực kỳ làm cục to tổ bố ép mua cái giá ko ăn cái ở mà người khen ngon\n",
      "ở trc chủ xây mới chất lg ko đổi giá tăng từ từ mìh kiu thường trứng hơi no tẹo cực kì ngonnn đi vạn kiếp rẽ hẻm biển hoa đàm ni đi chừng hẻm để xe ngoài dọc dãy chú chủ sắp xếp xe nhưng khuyến khích b mua ăn chỗ bàn ghế sạch ly uống dùng kết phục vụ vk ck chủ miễn bàn cực kì thân thiện dạo này có nữa phụ nhưng ko dc lanh lẹ lắm quán bán sáng chừng là hết hành phi ngon và giòn lắm bánh thì gọi tới đâu làm tới ko qá lâu và bánh còn ấm\n",
      "đi trước chỉ súp cua súp óc heo tới quán mình đã loại rong biển hến thập cẩm đây thêm súp còi điệp chỉ có súp âu nha menu món cũng muôn ah bánh trà xanh cực ngon món khoái khẩu mình mình có thói quen chộp hình thức ăn trước khi ăn các bạn đến súp sài gòn và cảm nhé\n"
     ]
    }
   ],
   "source": [
    "for i in range(3):\n",
    "    print(lst_test[i])"
   ]
  },
  {
   "cell_type": "markdown",
   "id": "336f7726",
   "metadata": {},
   "source": [
    "# 3. One-hot representation"
   ]
  },
  {
   "cell_type": "code",
   "execution_count": 110,
   "id": "5cd44818",
   "metadata": {},
   "outputs": [],
   "source": [
    "### Vocabulary size\n",
    "voc_size=5000"
   ]
  },
  {
   "cell_type": "code",
   "execution_count": 111,
   "id": "dd86c5da",
   "metadata": {},
   "outputs": [],
   "source": [
    "one_hot_train = [one_hot(sentence, voc_size) for sentence in lst_train]\n",
    "one_hot_test = [one_hot(sentence, voc_size) for sentence in lst_test]"
   ]
  },
  {
   "cell_type": "code",
   "execution_count": 112,
   "id": "2479b624",
   "metadata": {},
   "outputs": [
    {
     "data": {
      "text/plain": [
       "[221,\n",
       " 1231,\n",
       " 110,\n",
       " 2190,\n",
       " 3886,\n",
       " 4460,\n",
       " 4656,\n",
       " 3302,\n",
       " 1528,\n",
       " 773,\n",
       " 4215,\n",
       " 2851,\n",
       " 1971,\n",
       " 1804,\n",
       " 1790,\n",
       " 1279,\n",
       " 2255,\n",
       " 3092,\n",
       " 1450]"
      ]
     },
     "execution_count": 112,
     "metadata": {},
     "output_type": "execute_result"
    }
   ],
   "source": [
    "one_hot_train[1]"
   ]
  },
  {
   "cell_type": "markdown",
   "id": "868d0f3f",
   "metadata": {},
   "source": [
    "# 4. Padding sequence"
   ]
  },
  {
   "cell_type": "code",
   "execution_count": 113,
   "id": "4c77d052",
   "metadata": {},
   "outputs": [],
   "source": [
    "### Sentence length\n",
    "sentence_len = 30"
   ]
  },
  {
   "cell_type": "code",
   "execution_count": 114,
   "id": "6ec63843",
   "metadata": {},
   "outputs": [],
   "source": [
    "padding_train = pad_sequences(one_hot_train, padding='pre', maxlen=sentence_len)\n",
    "padding_test = pad_sequences(one_hot_test, padding='pre', maxlen=sentence_len)"
   ]
  },
  {
   "cell_type": "code",
   "execution_count": 115,
   "id": "eeaf4709",
   "metadata": {
    "scrolled": true
   },
   "outputs": [
    {
     "data": {
      "text/plain": [
       "array([   0,    0,    0,    0,    0,    0,    0,    0,    0,    0,    0,\n",
       "        221, 1231,  110, 2190, 3886, 4460, 4656, 3302, 1528,  773, 4215,\n",
       "       2851, 1971, 1804, 1790, 1279, 2255, 3092, 1450])"
      ]
     },
     "execution_count": 115,
     "metadata": {},
     "output_type": "execute_result"
    }
   ],
   "source": [
    "padding_train[1]"
   ]
  },
  {
   "cell_type": "markdown",
   "id": "7394df20",
   "metadata": {},
   "source": [
    "# 5. Train Val split"
   ]
  },
  {
   "cell_type": "code",
   "execution_count": 132,
   "id": "df02f30b",
   "metadata": {},
   "outputs": [],
   "source": [
    "import numpy as np"
   ]
  },
  {
   "cell_type": "code",
   "execution_count": 133,
   "id": "fc14df06",
   "metadata": {},
   "outputs": [],
   "source": [
    "padding_train = np.array(padding_train)\n",
    "padding_test = np.array(padding_test)"
   ]
  },
  {
   "cell_type": "code",
   "execution_count": 134,
   "id": "fbcff8bb",
   "metadata": {},
   "outputs": [],
   "source": [
    "y = np.array(train['class'])"
   ]
  },
  {
   "cell_type": "code",
   "execution_count": 135,
   "id": "d6eb8bd8",
   "metadata": {},
   "outputs": [],
   "source": [
    "from sklearn.model_selection import train_test_split\n",
    "X_train, X_val, y_train, y_val = train_test_split(padding_train, y, test_size=0.25, random_state=11)"
   ]
  },
  {
   "cell_type": "code",
   "execution_count": 136,
   "id": "eb79365b",
   "metadata": {},
   "outputs": [
    {
     "name": "stdout",
     "output_type": "stream",
     "text": [
      "Shape of X_train: (20250, 30)\n",
      "Shape of X_val: (6750, 30)\n",
      "Shape of y_train: (20250,)\n",
      "Shape of y_val: (6750,)\n"
     ]
    }
   ],
   "source": [
    "print('Shape of X_train:', X_train.shape)\n",
    "print('Shape of X_val:', X_val.shape)\n",
    "print('Shape of y_train:', y_train.shape)\n",
    "print('Shape of y_val:', y_val.shape)"
   ]
  },
  {
   "cell_type": "markdown",
   "id": "611693f6",
   "metadata": {},
   "source": [
    "# 6. Word embedding representation and model"
   ]
  },
  {
   "cell_type": "code",
   "execution_count": 116,
   "id": "f360f58d",
   "metadata": {},
   "outputs": [],
   "source": [
    "### Number of features to represent a word\n",
    "num_features = 50"
   ]
  },
  {
   "cell_type": "code",
   "execution_count": 121,
   "id": "1bcbabe6",
   "metadata": {},
   "outputs": [],
   "source": [
    "model = Sequential()\n",
    "model.add(Embedding(voc_size, num_features, input_length=sentence_len))\n",
    "model.add(LSTM(100))\n",
    "model.add(Dense(1,activation='sigmoid'))\n",
    "model.compile(loss='binary_crossentropy',optimizer='adam',metrics=['accuracy'])"
   ]
  },
  {
   "cell_type": "code",
   "execution_count": 122,
   "id": "8498bf24",
   "metadata": {},
   "outputs": [
    {
     "name": "stdout",
     "output_type": "stream",
     "text": [
      "Model: \"sequential_1\"\n",
      "_________________________________________________________________\n",
      " Layer (type)                Output Shape              Param #   \n",
      "=================================================================\n",
      " embedding_1 (Embedding)     (None, 30, 50)            250000    \n",
      "                                                                 \n",
      " lstm (LSTM)                 (None, 100)               60400     \n",
      "                                                                 \n",
      " dense (Dense)               (None, 1)                 101       \n",
      "                                                                 \n",
      "=================================================================\n",
      "Total params: 310,501\n",
      "Trainable params: 310,501\n",
      "Non-trainable params: 0\n",
      "_________________________________________________________________\n"
     ]
    }
   ],
   "source": [
    "model.summary()"
   ]
  },
  {
   "cell_type": "markdown",
   "id": "0ce60898",
   "metadata": {},
   "source": [
    "# 7. Model training"
   ]
  },
  {
   "cell_type": "code",
   "execution_count": 137,
   "id": "35b664e1",
   "metadata": {},
   "outputs": [],
   "source": [
    "from keras.callbacks import EarlyStopping\n",
    "\n",
    "early_stop = EarlyStopping(monitor='val_loss', patience=10)\n",
    "\n",
    "callback_list = [early_stop]"
   ]
  },
  {
   "cell_type": "code",
   "execution_count": 138,
   "id": "b98ef6a7",
   "metadata": {},
   "outputs": [
    {
     "name": "stdout",
     "output_type": "stream",
     "text": [
      "Epoch 1/100\n",
      "317/317 [==============================] - 17s 46ms/step - loss: 0.4541 - accuracy: 0.7853 - val_loss: 0.4034 - val_accuracy: 0.8135\n",
      "Epoch 2/100\n",
      "317/317 [==============================] - 14s 44ms/step - loss: 0.3636 - accuracy: 0.8456 - val_loss: 0.4011 - val_accuracy: 0.8225\n",
      "Epoch 3/100\n",
      "317/317 [==============================] - 13s 42ms/step - loss: 0.3354 - accuracy: 0.8599 - val_loss: 0.4072 - val_accuracy: 0.8200\n",
      "Epoch 4/100\n",
      "317/317 [==============================] - 13s 42ms/step - loss: 0.3098 - accuracy: 0.8727 - val_loss: 0.4194 - val_accuracy: 0.8160\n",
      "Epoch 5/100\n",
      "317/317 [==============================] - 14s 43ms/step - loss: 0.2818 - accuracy: 0.8855 - val_loss: 0.4714 - val_accuracy: 0.8087\n",
      "Epoch 6/100\n",
      "317/317 [==============================] - 13s 42ms/step - loss: 0.2581 - accuracy: 0.8946 - val_loss: 0.4817 - val_accuracy: 0.8089\n",
      "Epoch 7/100\n",
      "317/317 [==============================] - 14s 45ms/step - loss: 0.2385 - accuracy: 0.9024 - val_loss: 0.5277 - val_accuracy: 0.8052\n",
      "Epoch 8/100\n",
      "317/317 [==============================] - 15s 49ms/step - loss: 0.2208 - accuracy: 0.9125 - val_loss: 0.4978 - val_accuracy: 0.7950\n",
      "Epoch 9/100\n",
      "317/317 [==============================] - 13s 42ms/step - loss: 0.2049 - accuracy: 0.9180 - val_loss: 0.6168 - val_accuracy: 0.7932\n",
      "Epoch 10/100\n",
      "317/317 [==============================] - 14s 44ms/step - loss: 0.1820 - accuracy: 0.9287 - val_loss: 0.6067 - val_accuracy: 0.7886\n",
      "Epoch 11/100\n",
      "317/317 [==============================] - 14s 44ms/step - loss: 0.1677 - accuracy: 0.9342 - val_loss: 0.6563 - val_accuracy: 0.7889\n",
      "Epoch 12/100\n",
      "317/317 [==============================] - 14s 43ms/step - loss: 0.1555 - accuracy: 0.9409 - val_loss: 0.7057 - val_accuracy: 0.7840\n"
     ]
    }
   ],
   "source": [
    "### Finally Training\n",
    "history = model.fit(X_train, y_train, validation_data=(X_val, y_val),epochs=100,batch_size=64, callbacks=callback_list)"
   ]
  },
  {
   "cell_type": "code",
   "execution_count": 140,
   "id": "a6b07a26",
   "metadata": {},
   "outputs": [
    {
     "data": {
      "text/plain": [
       "<matplotlib.legend.Legend at 0x24f633c4fa0>"
      ]
     },
     "execution_count": 140,
     "metadata": {},
     "output_type": "execute_result"
    },
    {
     "data": {
      "image/png": "[encoded data removed]",
      "text/plain": [
       "<Figure size 432x288 with 1 Axes>"
      ]
     },
     "metadata": {
      "needs_background": "light"
     },
     "output_type": "display_data"
    },
    {
     "data": {
      "image/png": "[encoded data removed]",
      "text/plain": [
       "<Figure size 432x288 with 1 Axes>"
      ]
     },
     "metadata": {
      "needs_background": "light"
     },
     "output_type": "display_data"
    }
   ],
   "source": [
    "import matplotlib.pyplot as plt\n",
    "\n",
    "# Retrieve a list of accuracy results on training and validation data\n",
    "# sets for each training epoch\n",
    "acc = history.history['accuracy']\n",
    "val_acc = history.history['val_accuracy']\n",
    "\n",
    "# Retrieve a list of loss results on training and validation data\n",
    "# sets for each training epoch\n",
    "loss = history.history['loss']\n",
    "val_loss = history.history['val_loss']\n",
    "\n",
    "# Get number of epochs\n",
    "epochs = range(1, len(acc)+1)\n",
    "\n",
    "# Plot training and validation accuracy per epoch\n",
    "plt.plot(epochs, acc, label='Train')\n",
    "plt.plot(epochs, val_acc, label='Val')\n",
    "plt.title('Training and validation accuracy')\n",
    "plt.legend()\n",
    "\n",
    "\n",
    "plt.figure()\n",
    "\n",
    "# Plot training and validation loss per epoch\n",
    "plt.plot(epochs, loss, label='Train')\n",
    "plt.plot(epochs, val_loss, label='Val')\n",
    "plt.title('Training and validation loss')\n",
    "plt.legend()"
   ]
  },
  {
   "cell_type": "markdown",
   "id": "e9bf8902",
   "metadata": {},
   "source": [
    "# 8. Address overfitting"
   ]
  },
  {
   "cell_type": "code",
   "execution_count": 157,
   "id": "eaaf39cb",
   "metadata": {},
   "outputs": [],
   "source": [
    "from tensorflow.keras.layers import Dropout\n",
    "\n",
    "## Creating model\n",
    "model=Sequential()\n",
    "model.add(Embedding(voc_size, num_features, input_length=sentence_len))\n",
    "model.add(Dropout(0.7))\n",
    "model.add(LSTM(5))\n",
    "model.add(Dropout(0.7))\n",
    "model.add(Dense(1,activation='sigmoid'))\n",
    "model.compile(loss='binary_crossentropy',optimizer='adam',metrics=['accuracy'])"
   ]
  },
  {
   "cell_type": "code",
   "execution_count": 158,
   "id": "71b14166",
   "metadata": {},
   "outputs": [
    {
     "name": "stdout",
     "output_type": "stream",
     "text": [
      "Model: \"sequential_6\"\n",
      "_________________________________________________________________\n",
      " Layer (type)                Output Shape              Param #   \n",
      "=================================================================\n",
      " embedding_6 (Embedding)     (None, 30, 50)            250000    \n",
      "                                                                 \n",
      " dropout_8 (Dropout)         (None, 30, 50)            0         \n",
      "                                                                 \n",
      " lstm_5 (LSTM)               (None, 5)                 1120      \n",
      "                                                                 \n",
      " dropout_9 (Dropout)         (None, 5)                 0         \n",
      "                                                                 \n",
      " dense_5 (Dense)             (None, 1)                 6         \n",
      "                                                                 \n",
      "=================================================================\n",
      "Total params: 251,126\n",
      "Trainable params: 251,126\n",
      "Non-trainable params: 0\n",
      "_________________________________________________________________\n"
     ]
    }
   ],
   "source": [
    "model.summary()"
   ]
  },
  {
   "cell_type": "code",
   "execution_count": 159,
   "id": "c62b47cb",
   "metadata": {},
   "outputs": [
    {
     "name": "stdout",
     "output_type": "stream",
     "text": [
      "Epoch 1/100\n",
      "317/317 [==============================] - 9s 22ms/step - loss: 0.5964 - accuracy: 0.6865 - val_loss: 0.4596 - val_accuracy: 0.8147\n",
      "Epoch 2/100\n",
      "317/317 [==============================] - 6s 19ms/step - loss: 0.4830 - accuracy: 0.7664 - val_loss: 0.4182 - val_accuracy: 0.8249\n",
      "Epoch 3/100\n",
      "317/317 [==============================] - 6s 20ms/step - loss: 0.4627 - accuracy: 0.7794 - val_loss: 0.4103 - val_accuracy: 0.8179\n",
      "Epoch 4/100\n",
      "317/317 [==============================] - 6s 20ms/step - loss: 0.4504 - accuracy: 0.7913 - val_loss: 0.4095 - val_accuracy: 0.8196\n",
      "Epoch 5/100\n",
      "317/317 [==============================] - 6s 20ms/step - loss: 0.4314 - accuracy: 0.7969 - val_loss: 0.4033 - val_accuracy: 0.8231\n",
      "Epoch 6/100\n",
      "317/317 [==============================] - 6s 20ms/step - loss: 0.4307 - accuracy: 0.7993 - val_loss: 0.4057 - val_accuracy: 0.8201\n",
      "Epoch 7/100\n",
      "317/317 [==============================] - 6s 20ms/step - loss: 0.4205 - accuracy: 0.8006 - val_loss: 0.4038 - val_accuracy: 0.8203\n",
      "Epoch 8/100\n",
      "317/317 [==============================] - 6s 20ms/step - loss: 0.4159 - accuracy: 0.8021 - val_loss: 0.4118 - val_accuracy: 0.8163\n",
      "Epoch 9/100\n",
      "317/317 [==============================] - 6s 20ms/step - loss: 0.4193 - accuracy: 0.7993 - val_loss: 0.4119 - val_accuracy: 0.8181\n",
      "Epoch 10/100\n",
      "317/317 [==============================] - 7s 21ms/step - loss: 0.4083 - accuracy: 0.8008 - val_loss: 0.4147 - val_accuracy: 0.8161\n",
      "Epoch 11/100\n",
      "317/317 [==============================] - 7s 21ms/step - loss: 0.4019 - accuracy: 0.8067 - val_loss: 0.4259 - val_accuracy: 0.8133\n",
      "Epoch 12/100\n",
      "317/317 [==============================] - 6s 20ms/step - loss: 0.4027 - accuracy: 0.8054 - val_loss: 0.4152 - val_accuracy: 0.8120\n",
      "Epoch 13/100\n",
      "317/317 [==============================] - 7s 21ms/step - loss: 0.3959 - accuracy: 0.8103 - val_loss: 0.4197 - val_accuracy: 0.8161\n",
      "Epoch 14/100\n",
      "317/317 [==============================] - 6s 20ms/step - loss: 0.4002 - accuracy: 0.8077 - val_loss: 0.4177 - val_accuracy: 0.8184\n",
      "Epoch 15/100\n",
      "317/317 [==============================] - 6s 20ms/step - loss: 0.3861 - accuracy: 0.8132 - val_loss: 0.4251 - val_accuracy: 0.8166\n"
     ]
    }
   ],
   "source": [
    "history = model.fit(X_train, y_train, validation_data=(X_val, y_val),epochs=100,batch_size=64, callbacks=callback_list)"
   ]
  },
  {
   "cell_type": "code",
   "execution_count": 160,
   "id": "7c27ac91",
   "metadata": {
    "scrolled": false
   },
   "outputs": [
    {
     "data": {
      "text/plain": [
       "<matplotlib.legend.Legend at 0x24f61c4e730>"
      ]
     },
     "execution_count": 160,
     "metadata": {},
     "output_type": "execute_result"
    },
    {
     "data": {
      "image/png": "[encoded data removed]",
      "text/plain": [
       "<Figure size 432x288 with 1 Axes>"
      ]
     },
     "metadata": {
      "needs_background": "light"
     },
     "output_type": "display_data"
    },
    {
     "data": {
      "image/png": "[encoded data removed]",
      "text/plain": [
       "<Figure size 432x288 with 1 Axes>"
      ]
     },
     "metadata": {
      "needs_background": "light"
     },
     "output_type": "display_data"
    }
   ],
   "source": [
    "# Retrieve a list of accuracy results on training and validation data\n",
    "# sets for each training epoch\n",
    "acc = history.history['accuracy']\n",
    "val_acc = history.history['val_accuracy']\n",
    "\n",
    "# Retrieve a list of loss results on training and validation data\n",
    "# sets for each training epoch\n",
    "loss = history.history['loss']\n",
    "val_loss = history.history['val_loss']\n",
    "\n",
    "# Get number of epochs\n",
    "epochs = range(1, len(acc)+1)\n",
    "\n",
    "# Plot training and validation accuracy per epoch\n",
    "plt.plot(epochs, acc, label='Train')\n",
    "plt.plot(epochs, val_acc, label='Val')\n",
    "plt.title('Training and validation accuracy')\n",
    "plt.legend()\n",
    "\n",
    "\n",
    "plt.figure()\n",
    "\n",
    "# Plot training and validation loss per epoch\n",
    "plt.plot(epochs, loss, label='Train')\n",
    "plt.plot(epochs, val_loss, label='Val')\n",
    "plt.title('Training and validation loss')\n",
    "plt.legend()"
   ]
  },
  {
   "cell_type": "markdown",
   "id": "76100507",
   "metadata": {},
   "source": [
    "# 9. Prediction"
   ]
  },
  {
   "cell_type": "code",
   "execution_count": 188,
   "id": "db03c50f",
   "metadata": {},
   "outputs": [],
   "source": [
    "predictions = model.predict(padding_test) > 0.5\n",
    "predictions = [0 if i==False else 1 for i in predictions]"
   ]
  },
  {
   "cell_type": "code",
   "execution_count": 189,
   "id": "297b61f4",
   "metadata": {},
   "outputs": [],
   "source": [
    "df = test[['id']].copy()\n",
    "df['class'] = predictions"
   ]
  },
  {
   "cell_type": "code",
   "execution_count": 190,
   "id": "3e9f8cfd",
   "metadata": {
    "scrolled": false
   },
   "outputs": [
    {
     "data": {
      "text/html": [
       "<div>\n",
       "<style scoped>\n",
       "    .dataframe tbody tr th:only-of-type {\n",
       "        vertical-align: middle;\n",
       "    }\n",
       "\n",
       "    .dataframe tbody tr th {\n",
       "        vertical-align: top;\n",
       "    }\n",
       "\n",
       "    .dataframe thead th {\n",
       "        text-align: right;\n",
       "    }\n",
       "</style>\n",
       "<table border=\"1\" class=\"dataframe\">\n",
       "  <thead>\n",
       "    <tr style=\"text-align: right;\">\n",
       "      <th></th>\n",
       "      <th>id</th>\n",
       "      <th>class</th>\n",
       "    </tr>\n",
       "  </thead>\n",
       "  <tbody>\n",
       "    <tr>\n",
       "      <th>0</th>\n",
       "      <td>3afca6c4</td>\n",
       "      <td>0</td>\n",
       "    </tr>\n",
       "    <tr>\n",
       "      <th>1</th>\n",
       "      <td>a52dd7db</td>\n",
       "      <td>1</td>\n",
       "    </tr>\n",
       "    <tr>\n",
       "      <th>2</th>\n",
       "      <td>a95ec3a0</td>\n",
       "      <td>1</td>\n",
       "    </tr>\n",
       "    <tr>\n",
       "      <th>3</th>\n",
       "      <td>68c1c84a</td>\n",
       "      <td>1</td>\n",
       "    </tr>\n",
       "    <tr>\n",
       "      <th>4</th>\n",
       "      <td>627bbd02</td>\n",
       "      <td>1</td>\n",
       "    </tr>\n",
       "    <tr>\n",
       "      <th>...</th>\n",
       "      <td>...</td>\n",
       "      <td>...</td>\n",
       "    </tr>\n",
       "    <tr>\n",
       "      <th>2995</th>\n",
       "      <td>e25b4674</td>\n",
       "      <td>0</td>\n",
       "    </tr>\n",
       "    <tr>\n",
       "      <th>2996</th>\n",
       "      <td>e3a763d5</td>\n",
       "      <td>1</td>\n",
       "    </tr>\n",
       "    <tr>\n",
       "      <th>2997</th>\n",
       "      <td>2173e1e6</td>\n",
       "      <td>0</td>\n",
       "    </tr>\n",
       "    <tr>\n",
       "      <th>2998</th>\n",
       "      <td>217d5e8c</td>\n",
       "      <td>0</td>\n",
       "    </tr>\n",
       "    <tr>\n",
       "      <th>2999</th>\n",
       "      <td>8f7e8e7c</td>\n",
       "      <td>0</td>\n",
       "    </tr>\n",
       "  </tbody>\n",
       "</table>\n",
       "<p>3000 rows × 2 columns</p>\n",
       "</div>"
      ],
      "text/plain": [
       "            id  class\n",
       "0     3afca6c4      0\n",
       "1     a52dd7db      1\n",
       "2     a95ec3a0      1\n",
       "3     68c1c84a      1\n",
       "4     627bbd02      1\n",
       "...        ...    ...\n",
       "2995  e25b4674      0\n",
       "2996  e3a763d5      1\n",
       "2997  2173e1e6      0\n",
       "2998  217d5e8c      0\n",
       "2999  8f7e8e7c      0\n",
       "\n",
       "[3000 rows x 2 columns]"
      ]
     },
     "execution_count": 190,
     "metadata": {},
     "output_type": "execute_result"
    }
   ],
   "source": [
    "df"
   ]
  },
  {
   "cell_type": "code",
   "execution_count": 203,
   "id": "39344751",
   "metadata": {},
   "outputs": [],
   "source": [
    "df.set_index('id', inplace=True)"
   ]
  },
  {
   "cell_type": "code",
   "execution_count": 204,
   "id": "d048a61b",
   "metadata": {},
   "outputs": [
    {
     "data": {
      "text/html": [
       "<div>\n",
       "<style scoped>\n",
       "    .dataframe tbody tr th:only-of-type {\n",
       "        vertical-align: middle;\n",
       "    }\n",
       "\n",
       "    .dataframe tbody tr th {\n",
       "        vertical-align: top;\n",
       "    }\n",
       "\n",
       "    .dataframe thead th {\n",
       "        text-align: right;\n",
       "    }\n",
       "</style>\n",
       "<table border=\"1\" class=\"dataframe\">\n",
       "  <thead>\n",
       "    <tr style=\"text-align: right;\">\n",
       "      <th></th>\n",
       "      <th>class</th>\n",
       "    </tr>\n",
       "    <tr>\n",
       "      <th>id</th>\n",
       "      <th></th>\n",
       "    </tr>\n",
       "  </thead>\n",
       "  <tbody>\n",
       "    <tr>\n",
       "      <th>3afca6c4</th>\n",
       "      <td>0</td>\n",
       "    </tr>\n",
       "    <tr>\n",
       "      <th>a52dd7db</th>\n",
       "      <td>1</td>\n",
       "    </tr>\n",
       "    <tr>\n",
       "      <th>a95ec3a0</th>\n",
       "      <td>1</td>\n",
       "    </tr>\n",
       "    <tr>\n",
       "      <th>68c1c84a</th>\n",
       "      <td>1</td>\n",
       "    </tr>\n",
       "    <tr>\n",
       "      <th>627bbd02</th>\n",
       "      <td>1</td>\n",
       "    </tr>\n",
       "    <tr>\n",
       "      <th>...</th>\n",
       "      <td>...</td>\n",
       "    </tr>\n",
       "    <tr>\n",
       "      <th>e25b4674</th>\n",
       "      <td>0</td>\n",
       "    </tr>\n",
       "    <tr>\n",
       "      <th>e3a763d5</th>\n",
       "      <td>1</td>\n",
       "    </tr>\n",
       "    <tr>\n",
       "      <th>2173e1e6</th>\n",
       "      <td>0</td>\n",
       "    </tr>\n",
       "    <tr>\n",
       "      <th>217d5e8c</th>\n",
       "      <td>0</td>\n",
       "    </tr>\n",
       "    <tr>\n",
       "      <th>8f7e8e7c</th>\n",
       "      <td>0</td>\n",
       "    </tr>\n",
       "  </tbody>\n",
       "</table>\n",
       "<p>3000 rows × 1 columns</p>\n",
       "</div>"
      ],
      "text/plain": [
       "          class\n",
       "id             \n",
       "3afca6c4      0\n",
       "a52dd7db      1\n",
       "a95ec3a0      1\n",
       "68c1c84a      1\n",
       "627bbd02      1\n",
       "...         ...\n",
       "e25b4674      0\n",
       "e3a763d5      1\n",
       "2173e1e6      0\n",
       "217d5e8c      0\n",
       "8f7e8e7c      0\n",
       "\n",
       "[3000 rows x 1 columns]"
      ]
     },
     "execution_count": 204,
     "metadata": {},
     "output_type": "execute_result"
    }
   ],
   "source": [
    "df"
   ]
  },
  {
   "cell_type": "code",
   "execution_count": 205,
   "id": "d9944473",
   "metadata": {},
   "outputs": [],
   "source": [
    "df.to_csv('submission.csv')"
   ]
  },
  {
   "cell_type": "markdown",
   "id": "e99b4577",
   "metadata": {},
   "source": [
    "# 10. Try another architecture"
   ]
  },
  {
   "cell_type": "code",
   "execution_count": 224,
   "id": "bbc0633b",
   "metadata": {},
   "outputs": [],
   "source": [
    "## Creating model\n",
    "model=Sequential()\n",
    "model.add(Embedding(voc_size, num_features, input_length=sentence_len))\n",
    "model.add(Dropout(0.7))\n",
    "model.add(LSTM(5))\n",
    "model.add(Dropout(0.7))\n",
    "model.add(Dense(8,activation='relu'))\n",
    "model.add(Dropout(0.7))\n",
    "model.add(Dense(1,activation='sigmoid'))\n",
    "model.compile(loss='binary_crossentropy',optimizer='adam',metrics=['accuracy'])"
   ]
  },
  {
   "cell_type": "code",
   "execution_count": 225,
   "id": "a2d63265",
   "metadata": {},
   "outputs": [
    {
     "name": "stdout",
     "output_type": "stream",
     "text": [
      "Model: \"sequential_7\"\n",
      "_________________________________________________________________\n",
      " Layer (type)                Output Shape              Param #   \n",
      "=================================================================\n",
      " embedding_7 (Embedding)     (None, 30, 50)            250000    \n",
      "                                                                 \n",
      " dropout_10 (Dropout)        (None, 30, 50)            0         \n",
      "                                                                 \n",
      " lstm_6 (LSTM)               (None, 5)                 1120      \n",
      "                                                                 \n",
      " dropout_11 (Dropout)        (None, 5)                 0         \n",
      "                                                                 \n",
      " dense_6 (Dense)             (None, 8)                 48        \n",
      "                                                                 \n",
      " dropout_12 (Dropout)        (None, 8)                 0         \n",
      "                                                                 \n",
      " dense_7 (Dense)             (None, 1)                 9         \n",
      "                                                                 \n",
      "=================================================================\n",
      "Total params: 251,177\n",
      "Trainable params: 251,177\n",
      "Non-trainable params: 0\n",
      "_________________________________________________________________\n"
     ]
    }
   ],
   "source": [
    "model.summary()"
   ]
  },
  {
   "cell_type": "code",
   "execution_count": 226,
   "id": "4d5ec1dc",
   "metadata": {},
   "outputs": [
    {
     "name": "stdout",
     "output_type": "stream",
     "text": [
      "Epoch 1/100\n",
      "317/317 [==============================] - 10s 23ms/step - loss: 0.6825 - accuracy: 0.5260 - val_loss: 0.5914 - val_accuracy: 0.7883\n",
      "Epoch 2/100\n",
      "317/317 [==============================] - 7s 21ms/step - loss: 0.5929 - accuracy: 0.6798 - val_loss: 0.4707 - val_accuracy: 0.8129\n",
      "Epoch 3/100\n",
      "317/317 [==============================] - 7s 21ms/step - loss: 0.5575 - accuracy: 0.7242 - val_loss: 0.4530 - val_accuracy: 0.8169\n",
      "Epoch 4/100\n",
      "317/317 [==============================] - 7s 21ms/step - loss: 0.5430 - accuracy: 0.7338 - val_loss: 0.4486 - val_accuracy: 0.8153\n",
      "Epoch 5/100\n",
      "317/317 [==============================] - 7s 22ms/step - loss: 0.5369 - accuracy: 0.7381 - val_loss: 0.4395 - val_accuracy: 0.8203\n",
      "Epoch 6/100\n",
      "317/317 [==============================] - 7s 21ms/step - loss: 0.5266 - accuracy: 0.7444 - val_loss: 0.4328 - val_accuracy: 0.8179\n",
      "Epoch 7/100\n",
      "317/317 [==============================] - 7s 21ms/step - loss: 0.5199 - accuracy: 0.7456 - val_loss: 0.4329 - val_accuracy: 0.8170\n",
      "Epoch 8/100\n",
      "317/317 [==============================] - 7s 21ms/step - loss: 0.5232 - accuracy: 0.7496 - val_loss: 0.4294 - val_accuracy: 0.8184\n",
      "Epoch 9/100\n",
      "317/317 [==============================] - 7s 21ms/step - loss: 0.5145 - accuracy: 0.7538 - val_loss: 0.4293 - val_accuracy: 0.8178\n",
      "Epoch 10/100\n",
      "317/317 [==============================] - 7s 21ms/step - loss: 0.5078 - accuracy: 0.7564 - val_loss: 0.4324 - val_accuracy: 0.8084\n",
      "Epoch 11/100\n",
      "317/317 [==============================] - 7s 21ms/step - loss: 0.5074 - accuracy: 0.7591 - val_loss: 0.4277 - val_accuracy: 0.8150\n",
      "Epoch 12/100\n",
      "317/317 [==============================] - 7s 21ms/step - loss: 0.5082 - accuracy: 0.7573 - val_loss: 0.4314 - val_accuracy: 0.8145\n",
      "Epoch 13/100\n",
      "317/317 [==============================] - 7s 21ms/step - loss: 0.4973 - accuracy: 0.7624 - val_loss: 0.4297 - val_accuracy: 0.8127\n",
      "Epoch 14/100\n",
      "317/317 [==============================] - 7s 21ms/step - loss: 0.4969 - accuracy: 0.7644 - val_loss: 0.4283 - val_accuracy: 0.8124\n",
      "Epoch 15/100\n",
      "317/317 [==============================] - 7s 21ms/step - loss: 0.4963 - accuracy: 0.7591 - val_loss: 0.4257 - val_accuracy: 0.8153\n",
      "Epoch 16/100\n",
      "317/317 [==============================] - 7s 21ms/step - loss: 0.4940 - accuracy: 0.7637 - val_loss: 0.4256 - val_accuracy: 0.8167\n",
      "Epoch 17/100\n",
      "317/317 [==============================] - 7s 22ms/step - loss: 0.4918 - accuracy: 0.7633 - val_loss: 0.4343 - val_accuracy: 0.8163\n",
      "Epoch 18/100\n",
      "317/317 [==============================] - 7s 21ms/step - loss: 0.4913 - accuracy: 0.7663 - val_loss: 0.4297 - val_accuracy: 0.8163\n",
      "Epoch 19/100\n",
      "317/317 [==============================] - 7s 21ms/step - loss: 0.4855 - accuracy: 0.7630 - val_loss: 0.4316 - val_accuracy: 0.8116\n",
      "Epoch 20/100\n",
      "317/317 [==============================] - 7s 21ms/step - loss: 0.4900 - accuracy: 0.7633 - val_loss: 0.4379 - val_accuracy: 0.8108\n",
      "Epoch 21/100\n",
      "317/317 [==============================] - 7s 20ms/step - loss: 0.4857 - accuracy: 0.7683 - val_loss: 0.4350 - val_accuracy: 0.8157\n",
      "Epoch 22/100\n",
      "317/317 [==============================] - 7s 21ms/step - loss: 0.4860 - accuracy: 0.7645 - val_loss: 0.4333 - val_accuracy: 0.8124\n",
      "Epoch 23/100\n",
      "317/317 [==============================] - 7s 21ms/step - loss: 0.4772 - accuracy: 0.7701 - val_loss: 0.4378 - val_accuracy: 0.8099\n",
      "Epoch 24/100\n",
      "317/317 [==============================] - 7s 21ms/step - loss: 0.4814 - accuracy: 0.7701 - val_loss: 0.4402 - val_accuracy: 0.8087\n",
      "Epoch 25/100\n",
      "317/317 [==============================] - 7s 21ms/step - loss: 0.4751 - accuracy: 0.7686 - val_loss: 0.4401 - val_accuracy: 0.8084\n",
      "Epoch 26/100\n",
      "317/317 [==============================] - 6s 20ms/step - loss: 0.4751 - accuracy: 0.7701 - val_loss: 0.4471 - val_accuracy: 0.8086\n"
     ]
    }
   ],
   "source": [
    "history = model.fit(X_train, y_train, validation_data=(X_val, y_val),epochs=100,batch_size=64, callbacks=callback_list)"
   ]
  },
  {
   "cell_type": "code",
   "execution_count": 230,
   "id": "d3380318",
   "metadata": {},
   "outputs": [
    {
     "data": {
      "text/plain": [
       "<matplotlib.legend.Legend at 0x24f6a8a90d0>"
      ]
     },
     "execution_count": 230,
     "metadata": {},
     "output_type": "execute_result"
    },
    {
     "data": {
      "image/png": "[encoded data removed]",
      "text/plain": [
       "<Figure size 432x288 with 1 Axes>"
      ]
     },
     "metadata": {
      "needs_background": "light"
     },
     "output_type": "display_data"
    },
    {
     "data": {
      "image/png": "[encoded data removed]",
      "text/plain": [
       "<Figure size 432x288 with 1 Axes>"
      ]
     },
     "metadata": {
      "needs_background": "light"
     },
     "output_type": "display_data"
    }
   ],
   "source": [
    "# Retrieve a list of accuracy results on training and validation data\n",
    "# sets for each training epoch\n",
    "acc = history.history['accuracy']\n",
    "val_acc = history.history['val_accuracy']\n",
    "\n",
    "# Retrieve a list of loss results on training and validation data\n",
    "# sets for each training epoch\n",
    "loss = history.history['loss']\n",
    "val_loss = history.history['val_loss']\n",
    "\n",
    "# Get number of epochs\n",
    "epochs = range(1, len(acc)+1)\n",
    "\n",
    "# Plot training and validation accuracy per epoch\n",
    "plt.plot(epochs, acc, label='Train')\n",
    "plt.plot(epochs, val_acc, label='Val')\n",
    "plt.title('Training and validation accuracy')\n",
    "plt.legend()\n",
    "\n",
    "\n",
    "plt.figure()\n",
    "\n",
    "# Plot training and validation loss per epoch\n",
    "plt.plot(epochs, loss, label='Train')\n",
    "plt.plot(epochs, val_loss, label='Val')\n",
    "plt.title('Training and validation loss')\n",
    "plt.legend()"
   ]
  },
  {
   "cell_type": "markdown",
   "id": "846dc854",
   "metadata": {},
   "source": [
    "# 11. Try bidirectional RNN"
   ]
  },
  {
   "cell_type": "code",
   "execution_count": 231,
   "id": "a194193e",
   "metadata": {},
   "outputs": [],
   "source": [
    "from tensorflow.keras.layers import Bidirectional"
   ]
  },
  {
   "cell_type": "code",
   "execution_count": 233,
   "id": "1d67ae33",
   "metadata": {},
   "outputs": [],
   "source": [
    "## Creating model\n",
    "model=Sequential()\n",
    "model.add(Embedding(voc_size, num_features, input_length=sentence_len))\n",
    "model.add(Dropout(0.7))\n",
    "model.add(Bidirectional(LSTM(5)))\n",
    "model.add(Dropout(0.7))\n",
    "model.add(Dense(1,activation='sigmoid'))\n",
    "model.compile(loss='binary_crossentropy',optimizer='adam',metrics=['accuracy'])"
   ]
  },
  {
   "cell_type": "code",
   "execution_count": 234,
   "id": "bdcea8a4",
   "metadata": {},
   "outputs": [
    {
     "name": "stdout",
     "output_type": "stream",
     "text": [
      "Model: \"sequential_9\"\n",
      "_________________________________________________________________\n",
      " Layer (type)                Output Shape              Param #   \n",
      "=================================================================\n",
      " embedding_9 (Embedding)     (None, 30, 50)            250000    \n",
      "                                                                 \n",
      " dropout_14 (Dropout)        (None, 30, 50)            0         \n",
      "                                                                 \n",
      " bidirectional (Bidirectiona  (None, 10)               2240      \n",
      " l)                                                              \n",
      "                                                                 \n",
      " dropout_15 (Dropout)        (None, 10)                0         \n",
      "                                                                 \n",
      " dense_8 (Dense)             (None, 1)                 11        \n",
      "                                                                 \n",
      "=================================================================\n",
      "Total params: 252,251\n",
      "Trainable params: 252,251\n",
      "Non-trainable params: 0\n",
      "_________________________________________________________________\n"
     ]
    }
   ],
   "source": [
    "model.summary()"
   ]
  },
  {
   "cell_type": "code",
   "execution_count": 235,
   "id": "48bf4c8a",
   "metadata": {},
   "outputs": [
    {
     "name": "stdout",
     "output_type": "stream",
     "text": [
      "Epoch 1/100\n",
      "317/317 [==============================] - 14s 31ms/step - loss: 0.6052 - accuracy: 0.6665 - val_loss: 0.4319 - val_accuracy: 0.8058\n",
      "Epoch 2/100\n",
      "317/317 [==============================] - 8s 26ms/step - loss: 0.4534 - accuracy: 0.8117 - val_loss: 0.4079 - val_accuracy: 0.8222\n",
      "Epoch 3/100\n",
      "317/317 [==============================] - 8s 24ms/step - loss: 0.4264 - accuracy: 0.8311 - val_loss: 0.4048 - val_accuracy: 0.8227\n",
      "Epoch 4/100\n",
      "317/317 [==============================] - 8s 25ms/step - loss: 0.4067 - accuracy: 0.8357 - val_loss: 0.4024 - val_accuracy: 0.8225\n",
      "Epoch 5/100\n",
      "317/317 [==============================] - 8s 24ms/step - loss: 0.3986 - accuracy: 0.8385 - val_loss: 0.4063 - val_accuracy: 0.8191\n",
      "Epoch 6/100\n",
      "317/317 [==============================] - 8s 25ms/step - loss: 0.3907 - accuracy: 0.8421 - val_loss: 0.3997 - val_accuracy: 0.8241\n",
      "Epoch 7/100\n",
      "317/317 [==============================] - 8s 25ms/step - loss: 0.3823 - accuracy: 0.8501 - val_loss: 0.4053 - val_accuracy: 0.8191\n",
      "Epoch 8/100\n",
      "317/317 [==============================] - 8s 26ms/step - loss: 0.3777 - accuracy: 0.8464 - val_loss: 0.4081 - val_accuracy: 0.8197\n",
      "Epoch 9/100\n",
      "317/317 [==============================] - 8s 25ms/step - loss: 0.3693 - accuracy: 0.8520 - val_loss: 0.4083 - val_accuracy: 0.8166\n",
      "Epoch 10/100\n",
      "317/317 [==============================] - 8s 26ms/step - loss: 0.3629 - accuracy: 0.8565 - val_loss: 0.4184 - val_accuracy: 0.8160\n",
      "Epoch 11/100\n",
      "317/317 [==============================] - 8s 26ms/step - loss: 0.3653 - accuracy: 0.8510 - val_loss: 0.4177 - val_accuracy: 0.8150\n",
      "Epoch 12/100\n",
      "317/317 [==============================] - 8s 26ms/step - loss: 0.3557 - accuracy: 0.8591 - val_loss: 0.4238 - val_accuracy: 0.8159\n",
      "Epoch 13/100\n",
      "317/317 [==============================] - 9s 29ms/step - loss: 0.3563 - accuracy: 0.8574 - val_loss: 0.4159 - val_accuracy: 0.8167\n",
      "Epoch 14/100\n",
      "317/317 [==============================] - 9s 28ms/step - loss: 0.3473 - accuracy: 0.8594 - val_loss: 0.4235 - val_accuracy: 0.8179\n",
      "Epoch 15/100\n",
      "317/317 [==============================] - 9s 28ms/step - loss: 0.3470 - accuracy: 0.8604 - val_loss: 0.4314 - val_accuracy: 0.8148\n",
      "Epoch 16/100\n",
      "317/317 [==============================] - 9s 28ms/step - loss: 0.3471 - accuracy: 0.8604 - val_loss: 0.4266 - val_accuracy: 0.8188\n"
     ]
    }
   ],
   "source": [
    "history = model.fit(X_train, y_train, validation_data=(X_val, y_val),epochs=100,batch_size=64, callbacks=callback_list)"
   ]
  },
  {
   "cell_type": "code",
   "execution_count": 236,
   "id": "736a2d81",
   "metadata": {},
   "outputs": [
    {
     "data": {
      "text/plain": [
       "<matplotlib.legend.Legend at 0x24f64f4bb50>"
      ]
     },
     "execution_count": 236,
     "metadata": {},
     "output_type": "execute_result"
    },
    {
     "data": {
      "image/png": "[encoded data removed]",
      "text/plain": [
       "<Figure size 432x288 with 1 Axes>"
      ]
     },
     "metadata": {
      "needs_background": "light"
     },
     "output_type": "display_data"
    },
    {
     "data": {
      "image/png": "[encoded data removed]",
      "text/plain": [
       "<Figure size 432x288 with 1 Axes>"
      ]
     },
     "metadata": {
      "needs_background": "light"
     },
     "output_type": "display_data"
    }
   ],
   "source": [
    "# Retrieve a list of accuracy results on training and validation data\n",
    "# sets for each training epoch\n",
    "acc = history.history['accuracy']\n",
    "val_acc = history.history['val_accuracy']\n",
    "\n",
    "# Retrieve a list of loss results on training and validation data\n",
    "# sets for each training epoch\n",
    "loss = history.history['loss']\n",
    "val_loss = history.history['val_loss']\n",
    "\n",
    "# Get number of epochs\n",
    "epochs = range(1, len(acc)+1)\n",
    "\n",
    "# Plot training and validation accuracy per epoch\n",
    "plt.plot(epochs, acc, label='Train')\n",
    "plt.plot(epochs, val_acc, label='Val')\n",
    "plt.title('Training and validation accuracy')\n",
    "plt.legend()\n",
    "\n",
    "\n",
    "plt.figure()\n",
    "\n",
    "# Plot training and validation loss per epoch\n",
    "plt.plot(epochs, loss, label='Train')\n",
    "plt.plot(epochs, val_loss, label='Val')\n",
    "plt.title('Training and validation loss')\n",
    "plt.legend()"
   ]
  },
  {
   "cell_type": "code",
   "execution_count": null,
   "id": "a9dd2031",
   "metadata": {},
   "outputs": [],
   "source": []
  }
 ],
 "metadata": {
  "kernelspec": {
   "display_name": "Python 3",
   "language": "python",
   "name": "python3"
  },
  "language_info": {
   "codemirror_mode": {
    "name": "ipython",
    "version": 3
   },
   "file_extension": ".py",
   "mimetype": "text/x-python",
   "name": "python",
   "nbconvert_exporter": "python",
   "pygments_lexer": "ipython3",
   "version": "3.8.8"
  }
 },
 "nbformat": 4,
 "nbformat_minor": 5
}
